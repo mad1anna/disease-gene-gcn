{
 "cells": [
  {
   "cell_type": "code",
   "execution_count": 59,
   "id": "7b4f2d72-8ab3-4fd2-81cb-41122ba81d64",
   "metadata": {},
   "outputs": [
    {
     "name": "stdout",
     "output_type": "stream",
     "text": [
      "            Disease     Gene    Relationship\n",
      "0  bile duct cancer    ERBB2  ASSOCIATES_DaG\n",
      "1  bile duct cancer  PPFIBP2  ASSOCIATES_DaG\n",
      "2  bile duct cancer    PTGS2  ASSOCIATES_DaG\n",
      "3  bile duct cancer    SOX17  ASSOCIATES_DaG\n",
      "4  bile duct cancer    PTPRE  ASSOCIATES_DaG\n"
     ]
    }
   ],
   "source": [
    "from neo4j import GraphDatabase\n",
    "import pandas as pd\n",
    "\n",
    "# Neo4j Connection Details\n",
    "NEO4J_URI = \"bolt://localhost:7687\"\n",
    "USERNAME = \"neo4j\"\n",
    "PASSWORD = \"neo4j\"\n",
    "\n",
    "# Connect to Neo4j\n",
    "driver = GraphDatabase.driver(NEO4J_URI, auth=(USERNAME, PASSWORD))\n",
    "\n",
    "# Function to Run Queries\n",
    "def run_query(query):\n",
    "    with driver.session() as session:\n",
    "        result = session.run(query)\n",
    "        return [record for record in result]\n",
    "\n",
    "# Query for Disease-Gene Relationships\n",
    "query = \"\"\"\n",
    "MATCH (d:Disease)-[r]->(g:Gene)\n",
    "WHERE type(r) IN ['ASSOCIATES_DaG', 'UPREGULATES_DuG', 'DOWNREGULATES_DdG']\n",
    "RETURN d.name AS Disease, g.name AS Gene, type(r) AS Relationship\n",
    "LIMIT 10000\n",
    "\"\"\"\n",
    "data = run_query(query)\n",
    "\n",
    "# Convert to Pandas DataFrame\n",
    "df = pd.DataFrame(data, columns=[\"Disease\", \"Gene\", \"Relationship\"])\n",
    "print(df.head())\n",
    "\n",
    "# Close Neo4j connection\n",
    "driver.close()\n"
   ]
  },
  {
   "cell_type": "code",
   "execution_count": 60,
   "id": "82c40e58-2bba-49d7-a63b-04d95eb6ea6c",
   "metadata": {},
   "outputs": [
    {
     "name": "stdout",
     "output_type": "stream",
     "text": [
      "Graph has 6416 nodes and 9895 edges.\n",
      "Feature tensor shape: torch.Size([6416, 1])\n"
     ]
    }
   ],
   "source": [
    "import networkx as nx\n",
    "\n",
    "# Build an undirected graph\n",
    "G = nx.Graph()\n",
    "for _, row in df.iterrows():\n",
    "    G.add_edge(row['Disease'], row['Gene'], relationship=row['Relationship'])\n",
    "\n",
    "print(f\"Graph has {G.number_of_nodes()} nodes and {G.number_of_edges()} edges.\")\n",
    "\n",
    "# Compute PageRank and assign as node feature\n",
    "pagerank_scores = nx.pagerank(G)\n",
    "nx.set_node_attributes(G, pagerank_scores, \"pagerank\")\n",
    "\n",
    "# Prepare feature matrix\n",
    "features = []\n",
    "node_idx_mapping = {}\n",
    "for idx, node in enumerate(G.nodes()):\n",
    "    node_idx_mapping[node] = idx\n",
    "    features.append([pagerank_scores[node]])\n",
    "\n",
    "import torch\n",
    "import numpy as np\n",
    "\n",
    "x = torch.tensor(features, dtype=torch.float)\n",
    "print(f\"Feature tensor shape: {x.shape}\")\n"
   ]
  },
  {
   "cell_type": "code",
   "execution_count": 61,
   "id": "d35dc152-0857-44ce-bc1e-6e72cc7189cc",
   "metadata": {},
   "outputs": [
    {
     "name": "stdout",
     "output_type": "stream",
     "text": [
      "Data(edge_index=[2, 19790], pagerank=[6416], relationship=[19790], num_nodes=6416, x=[6416, 1])\n"
     ]
    }
   ],
   "source": [
    "from torch_geometric.utils import from_networkx\n",
    "from torch_geometric.data import Data\n",
    "\n",
    "# Remap nodes to 0...n-1\n",
    "G = nx.relabel_nodes(G, node_idx_mapping)\n",
    "data = from_networkx(G)\n",
    "data.x = x\n",
    "\n",
    "print(data)\n"
   ]
  },
  {
   "cell_type": "code",
   "execution_count": 62,
   "id": "cbd9089d-0c03-468c-b0cb-93b44906e28a",
   "metadata": {},
   "outputs": [],
   "source": [
    "from torch_geometric.nn import GCNConv\n",
    "import torch.nn.functional as F\n",
    "\n",
    "class GCNLinkPredictor(torch.nn.Module):\n",
    "    def __init__(self, in_channels, hidden_channels):\n",
    "        super().__init__()\n",
    "        self.conv1 = GCNConv(in_channels, hidden_channels)\n",
    "        self.conv2 = GCNConv(hidden_channels, hidden_channels)\n",
    "        self.link_predictor = torch.nn.Linear(2 * hidden_channels, 1)\n",
    "\n",
    "    def encode(self, x, edge_index):\n",
    "        x = self.conv1(x, edge_index)\n",
    "        x = F.relu(x)\n",
    "        x = self.conv2(x, edge_index)\n",
    "        return x\n",
    "\n",
    "    def decode(self, z, edge_index):\n",
    "        src, dst = edge_index\n",
    "        out = torch.cat([z[src], z[dst]], dim=1)\n",
    "        return self.link_predictor(out)\n",
    "\n",
    "model = GCNLinkPredictor(in_channels=1, hidden_channels=32)\n",
    "optimizer = torch.optim.Adam(model.parameters(), lr=0.01)"
   ]
  },
  {
   "cell_type": "code",
   "execution_count": 63,
   "id": "c909c425-ca75-4131-b54b-060cb957747d",
   "metadata": {},
   "outputs": [
    {
     "name": "stdout",
     "output_type": "stream",
     "text": [
      "Positive edges: 19790\n",
      "Negative edges: 19790\n"
     ]
    }
   ],
   "source": [
    "from torch_geometric.utils import negative_sampling\n",
    "\n",
    "edge_index = data.edge_index\n",
    "\n",
    "# Create negative edges\n",
    "neg_edge_index = negative_sampling(\n",
    "    edge_index=edge_index,\n",
    "    num_nodes=data.num_nodes,\n",
    "    num_neg_samples=edge_index.size(1)\n",
    ")\n",
    "\n",
    "print(f\"Positive edges: {edge_index.shape[1]}\")\n",
    "print(f\"Negative edges: {neg_edge_index.shape[1]}\")\n"
   ]
  },
  {
   "cell_type": "code",
   "execution_count": 64,
   "id": "4c687a7b-5e78-4c90-ab8c-4bd8d3174e18",
   "metadata": {},
   "outputs": [
    {
     "name": "stdout",
     "output_type": "stream",
     "text": [
      "Epoch 10, Loss: 0.3420\n",
      "Epoch 20, Loss: 0.1625\n",
      "Epoch 30, Loss: 0.0901\n",
      "Epoch 40, Loss: 0.0693\n",
      "Epoch 50, Loss: 0.0678\n"
     ]
    }
   ],
   "source": [
    "def train():\n",
    "    model.train()\n",
    "    optimizer.zero_grad()\n",
    "    z = model.encode(data.x, data.edge_index)\n",
    "\n",
    "    # Positive edges\n",
    "    pos_out = model.decode(z, edge_index)\n",
    "    pos_label = torch.ones(pos_out.size(0), 1)\n",
    "\n",
    "    # Negative edges\n",
    "    neg_out = model.decode(z, neg_edge_index)\n",
    "    neg_label = torch.zeros(neg_out.size(0), 1)\n",
    "\n",
    "    # Combine\n",
    "    out = torch.cat([pos_out, neg_out], dim=0)\n",
    "    label = torch.cat([pos_label, neg_label], dim=0)\n",
    "\n",
    "    loss = F.binary_cross_entropy_with_logits(out, label)\n",
    "    loss.backward()\n",
    "    optimizer.step()\n",
    "    return loss\n",
    "\n",
    "for epoch in range(1, 51):\n",
    "    loss = train()\n",
    "    if epoch % 10 == 0:\n",
    "        print(f'Epoch {epoch}, Loss: {loss.item():.4f}')\n"
   ]
  },
  {
   "cell_type": "code",
   "execution_count": 65,
   "id": "df371c98-3bfc-487a-9c29-1ce463087764",
   "metadata": {},
   "outputs": [
    {
     "name": "stdout",
     "output_type": "stream",
     "text": [
      "AUC-ROC Score: 0.9979\n"
     ]
    }
   ],
   "source": [
    "from sklearn.metrics import roc_auc_score\n",
    "\n",
    "@torch.no_grad()\n",
    "def test():\n",
    "    model.eval()\n",
    "    z = model.encode(data.x, data.edge_index)\n",
    "    \n",
    "    pos_out = model.decode(z, edge_index).sigmoid()\n",
    "    neg_out = model.decode(z, neg_edge_index).sigmoid()\n",
    "\n",
    "    y_pred = torch.cat([pos_out, neg_out]).squeeze().cpu().numpy()\n",
    "    y_true = np.concatenate([np.ones(pos_out.size(0)), np.zeros(neg_out.size(0))])\n",
    "\n",
    "    auc = roc_auc_score(y_true, y_pred)\n",
    "    print(f'AUC-ROC Score: {auc:.4f}')\n",
    "\n",
    "test()"
   ]
  },
  {
   "cell_type": "code",
   "execution_count": 66,
   "id": "0e40d55b-0528-4b44-8d8e-71f69a5d35fc",
   "metadata": {},
   "outputs": [],
   "source": [
    "@torch.no_grad()\n",
    "def test():\n",
    "    model.eval()\n",
    "    z = model.encode(data.x, data.edge_index)\n",
    "    \n",
    "    pos_out = model.decode(z, edge_index).sigmoid()\n",
    "    neg_out = model.decode(z, neg_edge_index).sigmoid()\n",
    "\n",
    "    y_pred = torch.cat([pos_out, neg_out]).squeeze().cpu().numpy()\n",
    "    y_true = np.concatenate([np.ones(pos_out.size(0)), np.zeros(neg_out.size(0))])\n",
    "\n",
    "    auc_score = roc_auc_score(y_true, y_pred)\n",
    "    print(f'AUC-ROC Score: {auc_score:.4f}')\n",
    "    \n",
    "    return y_true, y_pred  # <-- ADD THIS LINE\n"
   ]
  },
  {
   "cell_type": "code",
   "execution_count": 67,
   "id": "69c829cd-f386-4d6a-b434-567595cda071",
   "metadata": {},
   "outputs": [
    {
     "name": "stdout",
     "output_type": "stream",
     "text": [
      "AUC-ROC Score: 0.9979\n"
     ]
    },
    {
     "data": {
      "image/png": "[encoded data removed]",
      "text/plain": [
       "<Figure size 800x600 with 1 Axes>"
      ]
     },
     "metadata": {},
     "output_type": "display_data"
    }
   ],
   "source": [
    "# Get outputs\n",
    "y_true, y_pred = test()\n",
    "\n",
    "# Now you can compute ROC curve\n",
    "from sklearn.metrics import roc_curve, auc\n",
    "import matplotlib.pyplot as plt\n",
    "\n",
    "# Compute FPR, TPR\n",
    "fpr, tpr, thresholds = roc_curve(y_true, y_pred)\n",
    "roc_auc = auc(fpr, tpr)\n",
    "\n",
    "# Plot\n",
    "plt.figure(figsize=(8,6))\n",
    "plt.plot(fpr, tpr, color='darkorange', lw=2, label=f'ROC curve (AUC = {roc_auc:.4f})')\n",
    "plt.plot([0, 1], [0, 1], color='navy', lw=2, linestyle='--')\n",
    "plt.xlim([0.0, 1.0])\n",
    "plt.ylim([0.0, 1.05])\n",
    "plt.xlabel('False Positive Rate', fontsize=14)\n",
    "plt.ylabel('True Positive Rate', fontsize=14)\n",
    "plt.title('Receiver Operating Characteristic (ROC) Curve', fontsize=16)\n",
    "plt.legend(loc=\"lower right\", fontsize=12)\n",
    "plt.grid(True)\n",
    "plt.show()\n"
   ]
  },
  {
   "cell_type": "code",
   "execution_count": 68,
   "id": "3f384ef3-6500-42e3-b05f-526c55751ec1",
   "metadata": {},
   "outputs": [],
   "source": [
    "from torch_geometric.utils import negative_sampling\n",
    "\n",
    "# Generate more negative samples (new disease-gene candidates)\n",
    "new_neg_edge_index = negative_sampling(\n",
    "    edge_index=edge_index,\n",
    "    num_nodes=data.num_nodes,\n",
    "    num_neg_samples=10000  # More negatives for broader prediction\n",
    ")\n"
   ]
  },
  {
   "cell_type": "code",
   "execution_count": 69,
   "id": "ab55c196-1877-4f17-aefb-b15af0773fe5",
   "metadata": {},
   "outputs": [],
   "source": [
    "model.eval()\n",
    "\n",
    "# Encode node features into embeddings\n",
    "z = model.encode(data.x, data.edge_index)\n",
    "\n",
    "# Predict scores for new candidate edges\n",
    "new_link_scores = model.decode(z, new_neg_edge_index).sigmoid()\n"
   ]
  },
  {
   "cell_type": "code",
   "execution_count": 70,
   "id": "ea085fe8-1f3c-430d-acc7-068307aeef00",
   "metadata": {},
   "outputs": [
    {
     "name": "stdout",
     "output_type": "stream",
     "text": [
      "Top Predicted New Disease-Gene Pairs:\n",
      "\n",
      "Pair 1: Node 1493 ↔ Node 5714 with predicted score 1.0000\n",
      "Pair 2: Node 2826 ↔ Node 1861 with predicted score 1.0000\n",
      "Pair 3: Node 5714 ↔ Node 3037 with predicted score 1.0000\n",
      "Pair 4: Node 6380 ↔ Node 43 with predicted score 1.0000\n",
      "Pair 5: Node 4378 ↔ Node 6329 with predicted score 1.0000\n",
      "Pair 6: Node 2523 ↔ Node 854 with predicted score 1.0000\n",
      "Pair 7: Node 651 ↔ Node 3558 with predicted score 1.0000\n",
      "Pair 8: Node 534 ↔ Node 4378 with predicted score 1.0000\n",
      "Pair 9: Node 2995 ↔ Node 6136 with predicted score 1.0000\n",
      "Pair 10: Node 43 ↔ Node 4209 with predicted score 1.0000\n",
      "Pair 11: Node 4571 ↔ Node 5714 with predicted score 1.0000\n",
      "Pair 12: Node 1837 ↔ Node 3397 with predicted score 1.0000\n",
      "Pair 13: Node 5254 ↔ Node 2475 with predicted score 1.0000\n",
      "Pair 14: Node 1861 ↔ Node 1242 with predicted score 1.0000\n",
      "Pair 15: Node 4743 ↔ Node 3764 with predicted score 1.0000\n",
      "Pair 16: Node 5714 ↔ Node 2859 with predicted score 1.0000\n",
      "Pair 17: Node 1057 ↔ Node 5254 with predicted score 1.0000\n",
      "Pair 18: Node 1944 ↔ Node 1220 with predicted score 1.0000\n",
      "Pair 19: Node 5341 ↔ Node 3397 with predicted score 1.0000\n",
      "Pair 20: Node 3397 ↔ Node 5211 with predicted score 1.0000\n"
     ]
    }
   ],
   "source": [
    "# Sort scores in descending order\n",
    "topk = 20  # How many top predictions you want\n",
    "top_scores, top_indices = torch.topk(new_link_scores.squeeze(), topk)\n",
    "\n",
    "print(\"Top Predicted New Disease-Gene Pairs:\\n\")\n",
    "for i in range(topk):\n",
    "    src = new_neg_edge_index[0, top_indices[i]].item()\n",
    "    dst = new_neg_edge_index[1, top_indices[i]].item()\n",
    "    print(f\"Pair {i+1}: Node {src} ↔ Node {dst} with predicted score {top_scores[i].item():.4f}\")\n"
   ]
  },
  {
   "cell_type": "code",
   "execution_count": 71,
   "id": "d107e76f-e978-4611-b9ea-5ab5d968afa2",
   "metadata": {},
   "outputs": [],
   "source": [
    "reverse_mapping = {v: k for k, v in node_idx_mapping.items()}\n",
    "\n",
    "disease_gene_pairs = []\n",
    "for i in range(topk):\n",
    "    src = new_neg_edge_index[0, top_indices[i]].item()\n",
    "    dst = new_neg_edge_index[1, top_indices[i]].item()\n",
    "    disease_gene_pairs.append((reverse_mapping[src], reverse_mapping[dst], top_scores[i].item()))\n"
   ]
  },
  {
   "cell_type": "code",
   "execution_count": 72,
   "id": "820357df-71f6-4269-a9d6-f058d64e6e7b",
   "metadata": {},
   "outputs": [
    {
     "name": "stdout",
     "output_type": "stream",
     "text": [
      "Top Predicted New Disease-Gene Pairs (with real node IDs):\n",
      "\n",
      "1. Disease: RNF13 ↔ Gene: IgA glomerulonephritis | Predicted Score: 1.0000\n",
      "2. Disease: YIPF3 ↔ Gene: nicotine dependence | Predicted Score: 1.0000\n",
      "3. Disease: IgA glomerulonephritis ↔ Gene: OCM | Predicted Score: 1.0000\n",
      "4. Disease: CYSLTR2 ↔ Gene: Crohn's disease | Predicted Score: 1.0000\n",
      "5. Disease: breast cancer ↔ Gene: TYR | Predicted Score: 1.0000\n",
      "6. Disease: idiopathic pulmonary fibrosis ↔ Gene: ACADL | Predicted Score: 1.0000\n",
      "7. Disease: pancreatic cancer ↔ Gene: TPD52 | Predicted Score: 1.0000\n",
      "8. Disease: MAGED1 ↔ Gene: breast cancer | Predicted Score: 1.0000\n",
      "9. Disease: hypertension ↔ Gene: FAM105A | Predicted Score: 1.0000\n",
      "10. Disease: Crohn's disease ↔ Gene: JUN | Predicted Score: 1.0000\n",
      "11. Disease: C16orf58 ↔ Gene: IgA glomerulonephritis | Predicted Score: 1.0000\n",
      "12. Disease: TCF7L2 ↔ Gene: prostate cancer | Predicted Score: 1.0000\n",
      "13. Disease: alopecia areata ↔ Gene: MBP | Predicted Score: 1.0000\n",
      "14. Disease: nicotine dependence ↔ Gene: LMAN2L | Predicted Score: 1.0000\n",
      "15. Disease: S100A4 ↔ Gene: abdominal aortic aneurysm | Predicted Score: 1.0000\n",
      "16. Disease: IgA glomerulonephritis ↔ Gene: CAPG | Predicted Score: 1.0000\n",
      "17. Disease: OSBPL8 ↔ Gene: alopecia areata | Predicted Score: 1.0000\n",
      "18. Disease: HNRNPA3 ↔ Gene: polycystic ovary syndrome | Predicted Score: 1.0000\n",
      "19. Disease: SMARCA4 ↔ Gene: prostate cancer | Predicted Score: 1.0000\n",
      "20. Disease: prostate cancer ↔ Gene: CYB5A | Predicted Score: 1.0000\n"
     ]
    }
   ],
   "source": [
    "print(\"Top Predicted New Disease-Gene Pairs (with real node IDs):\\n\")\n",
    "for i, (disease, gene, score) in enumerate(disease_gene_pairs, 1):\n",
    "    print(f\"{i}. Disease: {disease} ↔ Gene: {gene} | Predicted Score: {score:.4f}\")"
   ]
  },
  {
   "cell_type": "code",
   "execution_count": 73,
   "id": "da3fc1d8-5eea-47e7-a5e8-a14c1b3e35f7",
   "metadata": {},
   "outputs": [
    {
     "name": "stderr",
     "output_type": "stream",
     "text": [
      "C:\\Users\\banje\\AppData\\Local\\Temp\\ipykernel_29252\\3810451219.py:8: DeprecationWarning: Using a driver after it has been closed is deprecated. Future versions of the driver will raise an error.\n",
      "  with driver.session() as session:\n"
     ]
    },
    {
     "name": "stdout",
     "output_type": "stream",
     "text": [
      "1. Link NOT FOUND: RNF13 ↔ IgA glomerulonephritis | Predicted Score: 1.0000\n",
      "2. Link NOT FOUND: YIPF3 ↔ nicotine dependence | Predicted Score: 1.0000\n",
      "3. Link NOT FOUND: IgA glomerulonephritis ↔ OCM | Predicted Score: 1.0000\n",
      "4. Link NOT FOUND: CYSLTR2 ↔ Crohn's disease | Predicted Score: 1.0000\n",
      "5. Link NOT FOUND: breast cancer ↔ TYR | Predicted Score: 1.0000\n",
      "6. Link NOT FOUND: idiopathic pulmonary fibrosis ↔ ACADL | Predicted Score: 1.0000\n",
      "7. Link NOT FOUND: pancreatic cancer ↔ TPD52 | Predicted Score: 1.0000\n",
      "8. Link NOT FOUND: MAGED1 ↔ breast cancer | Predicted Score: 1.0000\n",
      "9. Link NOT FOUND: hypertension ↔ FAM105A | Predicted Score: 1.0000\n",
      "10. Link NOT FOUND: Crohn's disease ↔ JUN | Predicted Score: 1.0000\n",
      "11. Link NOT FOUND: C16orf58 ↔ IgA glomerulonephritis | Predicted Score: 1.0000\n",
      "12. Link NOT FOUND: TCF7L2 ↔ prostate cancer | Predicted Score: 1.0000\n",
      "13. Link NOT FOUND: alopecia areata ↔ MBP | Predicted Score: 1.0000\n",
      "14. Link NOT FOUND: nicotine dependence ↔ LMAN2L | Predicted Score: 1.0000\n",
      "15. Link NOT FOUND: S100A4 ↔ abdominal aortic aneurysm | Predicted Score: 1.0000\n",
      "16. Link NOT FOUND: IgA glomerulonephritis ↔ CAPG | Predicted Score: 1.0000\n",
      "17. Link NOT FOUND: OSBPL8 ↔ alopecia areata | Predicted Score: 1.0000\n",
      "18. Link NOT FOUND: HNRNPA3 ↔ polycystic ovary syndrome | Predicted Score: 1.0000\n",
      "19. Link NOT FOUND: SMARCA4 ↔ prostate cancer | Predicted Score: 1.0000\n",
      "20. Link NOT FOUND: prostate cancer ↔ CYB5A | Predicted Score: 1.0000\n"
     ]
    }
   ],
   "source": [
    "# Step 1: Fetch all existing disease-gene relationships at once\n",
    "def fetch_existing_links():\n",
    "    query = \"\"\"\n",
    "    MATCH (d:Disease)-[r]->(g:Gene)\n",
    "    WHERE type(r) IN ['ASSOCIATES_DaG', 'UPREGULATES_DuG', 'DOWNREGULATES_DdG']\n",
    "    RETURN d.name AS Disease, g.name AS Gene\n",
    "    \"\"\"\n",
    "    with driver.session() as session:\n",
    "        result = session.run(query)\n",
    "        existing_links = set()\n",
    "        for record in result:\n",
    "            existing_links.add( (record[\"Disease\"], record[\"Gene\"]) )\n",
    "    return existing_links\n",
    "\n",
    "# Step 2: Check top predicted pairs against this set\n",
    "existing_links = fetch_existing_links()\n",
    "\n",
    "for i, (disease, gene, score) in enumerate(disease_gene_pairs, 1):\n",
    "    if (disease, gene) in existing_links:\n",
    "        print(f\"{i}. Link EXISTS: {disease} ↔ {gene} | Predicted Score: {score:.4f}\")\n",
    "    else:\n",
    "        print(f\"{i}. Link NOT FOUND: {disease} ↔ {gene} | Predicted Score: {score:.4f}\")\n"
   ]
  },
  {
   "cell_type": "code",
   "execution_count": null,
   "id": "278c3af3-fccc-43c6-88ff-792c6abd2687",
   "metadata": {},
   "outputs": [],
   "source": []
  }
 ],
 "metadata": {
  "kernelspec": {
   "display_name": "Python 3 (ipykernel)",
   "language": "python",
   "name": "python3"
  },
  "language_info": {
   "codemirror_mode": {
    "name": "ipython",
    "version": 3
   },
   "file_extension": ".py",
   "mimetype": "text/x-python",
   "name": "python",
   "nbconvert_exporter": "python",
   "pygments_lexer": "ipython3",
   "version": "3.9.5"
  }
 },
 "nbformat": 4,
 "nbformat_minor": 5
}
